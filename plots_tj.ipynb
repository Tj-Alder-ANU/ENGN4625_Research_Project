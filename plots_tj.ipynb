{
 "cells": [
  {
   "cell_type": "code",
   "execution_count": 1,
   "metadata": {},
   "outputs": [],
   "source": [
    "import pandas as pd"
   ]
  },
  {
   "cell_type": "code",
   "execution_count": 4,
   "metadata": {},
   "outputs": [
    {
     "data": {
      "text/html": [
       "<div>\n",
       "<style scoped>\n",
       "    .dataframe tbody tr th:only-of-type {\n",
       "        vertical-align: middle;\n",
       "    }\n",
       "\n",
       "    .dataframe tbody tr th {\n",
       "        vertical-align: top;\n",
       "    }\n",
       "\n",
       "    .dataframe thead th {\n",
       "        text-align: right;\n",
       "    }\n",
       "</style>\n",
       "<table border=\"1\" class=\"dataframe\">\n",
       "  <thead>\n",
       "    <tr style=\"text-align: right;\">\n",
       "      <th></th>\n",
       "      <th>year</th>\n",
       "      <th>Zone Substation</th>\n",
       "      <th>Date</th>\n",
       "      <th>unit</th>\n",
       "      <th>0:15</th>\n",
       "      <th>0:30</th>\n",
       "      <th>0:45</th>\n",
       "      <th>1:00</th>\n",
       "      <th>1:15</th>\n",
       "      <th>1:30</th>\n",
       "      <th>...</th>\n",
       "      <th>21:45</th>\n",
       "      <th>22:00</th>\n",
       "      <th>22:15</th>\n",
       "      <th>22:30</th>\n",
       "      <th>22:45</th>\n",
       "      <th>23:00</th>\n",
       "      <th>23:15</th>\n",
       "      <th>23:30</th>\n",
       "      <th>23:45</th>\n",
       "      <th>24:00:00</th>\n",
       "    </tr>\n",
       "  </thead>\n",
       "  <tbody>\n",
       "    <tr>\n",
       "      <th>0</th>\n",
       "      <td>2022</td>\n",
       "      <td>Adamstown 132_11kV</td>\n",
       "      <td>01MAY2021</td>\n",
       "      <td>MW</td>\n",
       "      <td>9.371196</td>\n",
       "      <td>8.966959</td>\n",
       "      <td>8.817166</td>\n",
       "      <td>9.287505</td>\n",
       "      <td>8.971956</td>\n",
       "      <td>8.283622</td>\n",
       "      <td>...</td>\n",
       "      <td>10.619104</td>\n",
       "      <td>9.914877</td>\n",
       "      <td>9.443753</td>\n",
       "      <td>9.209049</td>\n",
       "      <td>9.309421</td>\n",
       "      <td>8.807181</td>\n",
       "      <td>9.437624</td>\n",
       "      <td>8.942692</td>\n",
       "      <td>8.385109</td>\n",
       "      <td>8.562696</td>\n",
       "    </tr>\n",
       "    <tr>\n",
       "      <th>1</th>\n",
       "      <td>2022</td>\n",
       "      <td>Adamstown 132_11kV</td>\n",
       "      <td>02MAY2021</td>\n",
       "      <td>MW</td>\n",
       "      <td>8.438285</td>\n",
       "      <td>7.909257</td>\n",
       "      <td>8.041159</td>\n",
       "      <td>8.717090</td>\n",
       "      <td>7.839918</td>\n",
       "      <td>7.218982</td>\n",
       "      <td>...</td>\n",
       "      <td>10.907526</td>\n",
       "      <td>10.245412</td>\n",
       "      <td>9.600080</td>\n",
       "      <td>9.038160</td>\n",
       "      <td>9.126055</td>\n",
       "      <td>8.582110</td>\n",
       "      <td>9.049516</td>\n",
       "      <td>8.622758</td>\n",
       "      <td>8.036974</td>\n",
       "      <td>8.092390</td>\n",
       "    </tr>\n",
       "    <tr>\n",
       "      <th>2</th>\n",
       "      <td>2022</td>\n",
       "      <td>Adamstown 132_11kV</td>\n",
       "      <td>03MAY2021</td>\n",
       "      <td>MW</td>\n",
       "      <td>8.024821</td>\n",
       "      <td>7.681340</td>\n",
       "      <td>7.918135</td>\n",
       "      <td>8.514636</td>\n",
       "      <td>7.749626</td>\n",
       "      <td>7.170066</td>\n",
       "      <td>...</td>\n",
       "      <td>9.657091</td>\n",
       "      <td>9.389373</td>\n",
       "      <td>11.147627</td>\n",
       "      <td>10.691247</td>\n",
       "      <td>10.043475</td>\n",
       "      <td>9.408988</td>\n",
       "      <td>9.504627</td>\n",
       "      <td>9.147790</td>\n",
       "      <td>9.176241</td>\n",
       "      <td>9.238046</td>\n",
       "    </tr>\n",
       "    <tr>\n",
       "      <th>3</th>\n",
       "      <td>2022</td>\n",
       "      <td>Adamstown 132_11kV</td>\n",
       "      <td>04MAY2021</td>\n",
       "      <td>MW</td>\n",
       "      <td>9.201315</td>\n",
       "      <td>8.790120</td>\n",
       "      <td>8.641952</td>\n",
       "      <td>9.109011</td>\n",
       "      <td>8.773925</td>\n",
       "      <td>8.106145</td>\n",
       "      <td>...</td>\n",
       "      <td>11.265302</td>\n",
       "      <td>10.939084</td>\n",
       "      <td>12.645879</td>\n",
       "      <td>12.148078</td>\n",
       "      <td>11.429279</td>\n",
       "      <td>10.730701</td>\n",
       "      <td>10.654950</td>\n",
       "      <td>10.318832</td>\n",
       "      <td>10.273759</td>\n",
       "      <td>10.270914</td>\n",
       "    </tr>\n",
       "    <tr>\n",
       "      <th>4</th>\n",
       "      <td>2022</td>\n",
       "      <td>Adamstown 132_11kV</td>\n",
       "      <td>05MAY2021</td>\n",
       "      <td>MW</td>\n",
       "      <td>10.189298</td>\n",
       "      <td>9.704412</td>\n",
       "      <td>9.564707</td>\n",
       "      <td>10.084609</td>\n",
       "      <td>9.784480</td>\n",
       "      <td>9.182866</td>\n",
       "      <td>...</td>\n",
       "      <td>10.599135</td>\n",
       "      <td>10.272109</td>\n",
       "      <td>11.976171</td>\n",
       "      <td>11.394462</td>\n",
       "      <td>10.741139</td>\n",
       "      <td>10.058613</td>\n",
       "      <td>10.105311</td>\n",
       "      <td>9.663833</td>\n",
       "      <td>9.683704</td>\n",
       "      <td>9.760449</td>\n",
       "    </tr>\n",
       "  </tbody>\n",
       "</table>\n",
       "<p>5 rows × 100 columns</p>\n",
       "</div>"
      ],
      "text/plain": [
       "   year     Zone Substation       Date unit       0:15      0:30      0:45  \\\n",
       "0  2022  Adamstown 132_11kV  01MAY2021   MW   9.371196  8.966959  8.817166   \n",
       "1  2022  Adamstown 132_11kV  02MAY2021   MW   8.438285  7.909257  8.041159   \n",
       "2  2022  Adamstown 132_11kV  03MAY2021   MW   8.024821  7.681340  7.918135   \n",
       "3  2022  Adamstown 132_11kV  04MAY2021   MW   9.201315  8.790120  8.641952   \n",
       "4  2022  Adamstown 132_11kV  05MAY2021   MW  10.189298  9.704412  9.564707   \n",
       "\n",
       "        1:00      1:15      1:30  ...      21:45      22:00      22:15  \\\n",
       "0   9.287505  8.971956  8.283622  ...  10.619104   9.914877   9.443753   \n",
       "1   8.717090  7.839918  7.218982  ...  10.907526  10.245412   9.600080   \n",
       "2   8.514636  7.749626  7.170066  ...   9.657091   9.389373  11.147627   \n",
       "3   9.109011  8.773925  8.106145  ...  11.265302  10.939084  12.645879   \n",
       "4  10.084609  9.784480  9.182866  ...  10.599135  10.272109  11.976171   \n",
       "\n",
       "       22:30      22:45      23:00      23:15      23:30      23:45   24:00:00  \n",
       "0   9.209049   9.309421   8.807181   9.437624   8.942692   8.385109   8.562696  \n",
       "1   9.038160   9.126055   8.582110   9.049516   8.622758   8.036974   8.092390  \n",
       "2  10.691247  10.043475   9.408988   9.504627   9.147790   9.176241   9.238046  \n",
       "3  12.148078  11.429279  10.730701  10.654950  10.318832  10.273759  10.270914  \n",
       "4  11.394462  10.741139  10.058613  10.105311   9.663833   9.683704   9.760449  \n",
       "\n",
       "[5 rows x 100 columns]"
      ]
     },
     "execution_count": 4,
     "metadata": {},
     "output_type": "execute_result"
    }
   ],
   "source": [
    "data = pd.read_csv('FY 2022/Adamstown 132_11kV FY2022.csv', delimiter=',')\n",
    "data.head()"
   ]
  },
  {
   "cell_type": "code",
   "execution_count": 31,
   "metadata": {},
   "outputs": [
    {
     "data": {
      "text/plain": [
       "11:45       10.601407\n",
       "12:00       11.269133\n",
       "12:15       10.626414\n",
       "12:30       10.791364\n",
       "12:45       10.837492\n",
       "13:00       10.933688\n",
       "13:15       11.098955\n",
       "13:30       11.202846\n",
       "13:45       11.303922\n",
       "14:00       11.595698\n",
       "14:15       11.780403\n",
       "14:30       12.088452\n",
       "14:45        12.68607\n",
       "15:00       12.624573\n",
       "15:15       12.739251\n",
       "15:30       13.207324\n",
       "15:45       13.409337\n",
       "16:00       14.083512\n",
       "16:15       14.526259\n",
       "16:30       14.863874\n",
       "16:45       15.351823\n",
       "17:00       15.907203\n",
       "17:15       16.526931\n",
       "17:30       17.309612\n",
       "17:45       17.892873\n",
       "18:00        18.24036\n",
       "18:15       18.569156\n",
       "18:30       19.068026\n",
       "18:45       19.234545\n",
       "19:00       19.532933\n",
       "19:15       19.464026\n",
       "19:30       19.608084\n",
       "19:45       18.754059\n",
       "20:00       17.966122\n",
       "20:15       17.568578\n",
       "20:30       17.295622\n",
       "20:45       16.947043\n",
       "21:00        16.45279\n",
       "21:15       16.016984\n",
       "21:30       15.649764\n",
       "21:45       15.224977\n",
       "22:00        14.61907\n",
       "22:15        15.21727\n",
       "22:30       15.130399\n",
       "22:45       14.096216\n",
       "23:00        13.08205\n",
       "23:15       12.592748\n",
       "23:30         11.8526\n",
       "23:45       11.619466\n",
       "24:00:00    11.780403\n",
       "Name: 275, dtype: object"
      ]
     },
     "execution_count": 31,
     "metadata": {},
     "output_type": "execute_result"
    }
   ],
   "source": [
    "data.iloc[275,50:]"
   ]
  },
  {
   "cell_type": "code",
   "execution_count": 46,
   "metadata": {},
   "outputs": [
    {
     "data": {
      "text/plain": [
       "('15:15',\n",
       " 0:15        41\n",
       " 0:30        41\n",
       " 0:45        41\n",
       " 1:00        41\n",
       " 1:15        41\n",
       "             ..\n",
       " 23:00       40\n",
       " 23:15       40\n",
       " 23:30       40\n",
       " 23:45       40\n",
       " 24:00:00    40\n",
       " Length: 96, dtype: int64)"
      ]
     },
     "execution_count": 46,
     "metadata": {},
     "output_type": "execute_result"
    }
   ],
   "source": [
    "max_row = data.iloc[:,4:].idxmax()\n",
    "max_col = data.iloc[:,4:].idxmax().idxmax()\n",
    "max_col, max_row"
   ]
  },
  {
   "cell_type": "code",
   "execution_count": 43,
   "metadata": {},
   "outputs": [
    {
     "data": {
      "text/plain": [
       "27.533309825"
      ]
     },
     "execution_count": 43,
     "metadata": {},
     "output_type": "execute_result"
    }
   ],
   "source": [
    "data.iloc[40]['17:45']"
   ]
  },
  {
   "cell_type": "code",
   "execution_count": 47,
   "metadata": {},
   "outputs": [
    {
     "data": {
      "text/plain": [
       "year                             2022\n",
       "Zone Substation    Adamstown 132_11kV\n",
       "Date                        10JUN2021\n",
       "unit                               MW\n",
       "0:15                        13.689268\n",
       "                          ...        \n",
       "23:00                       16.712544\n",
       "23:15                       16.208398\n",
       "23:30                       15.359566\n",
       "23:45                       14.959483\n",
       "24:00:00                    14.813329\n",
       "Name: 40, Length: 100, dtype: object"
      ]
     },
     "execution_count": 47,
     "metadata": {},
     "output_type": "execute_result"
    }
   ],
   "source": [
    "data.iloc[40]"
   ]
  },
  {
   "cell_type": "code",
   "execution_count": null,
   "metadata": {},
   "outputs": [],
   "source": []
  }
 ],
 "metadata": {
  "kernelspec": {
   "display_name": "statistics",
   "language": "python",
   "name": "python3"
  },
  "language_info": {
   "codemirror_mode": {
    "name": "ipython",
    "version": 3
   },
   "file_extension": ".py",
   "mimetype": "text/x-python",
   "name": "python",
   "nbconvert_exporter": "python",
   "pygments_lexer": "ipython3",
   "version": "3.10.4"
  },
  "orig_nbformat": 4,
  "vscode": {
   "interpreter": {
    "hash": "819d79e6c268aa5433ab134a7882d83333834e5ff21c2814a3c2bb683511a512"
   }
  }
 },
 "nbformat": 4,
 "nbformat_minor": 2
}
