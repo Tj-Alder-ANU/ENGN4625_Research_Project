{
 "cells": [
  {
   "attachments": {},
   "cell_type": "markdown",
   "metadata": {},
   "source": [
    "We must cool the 0.144m^3 (466kg) of aluminium by 1-degree every second.\n",
    "\n",
    "https://www.youtube.com/watch?v=laUYeIQwEL0\n",
    "\n",
    "This video examines flow rate... Could do something like this and have flow rate of air where it is lower for natural convection and higher for forced convection?"
   ]
  },
  {
   "cell_type": "code",
   "execution_count": null,
   "metadata": {},
   "outputs": [],
   "source": [
    "def heat_transfer_rate()"
   ]
  },
  {
   "cell_type": "code",
   "execution_count": null,
   "metadata": {},
   "outputs": [],
   "source": [
    "generated_heat = 366000 # 366000 J of heat should be dissipated each second\n",
    "surface_area = 1 # assume the aluminium has a surface area of 1m^2\n",
    "ambient_air_temp = 20 # assume the ambient temperature of the air is 20 degrees celcius\n",
    "ambient_aluminium_temp = 40 # assume the ambient temperature of the aluminium is 40 degrees celcius\n",
    "\n",
    "dt = 1.0\n",
    "t = 0\n",
    "while t < 10000:\n",
    "    t+=dt"
   ]
  }
 ],
 "metadata": {
  "kernelspec": {
   "display_name": "Python 3",
   "language": "python",
   "name": "python3"
  },
  "language_info": {
   "name": "python",
   "version": "3.9.2"
  },
  "orig_nbformat": 4,
  "vscode": {
   "interpreter": {
    "hash": "0712b97ee36963ca94949058e3d1f2c3909b15a37a518949bc6d6512e536d6ef"
   }
  }
 },
 "nbformat": 4,
 "nbformat_minor": 2
}
